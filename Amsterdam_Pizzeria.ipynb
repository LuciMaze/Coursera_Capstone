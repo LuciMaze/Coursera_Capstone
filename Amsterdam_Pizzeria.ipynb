{
 "cells": [
  {
   "cell_type": "markdown",
   "metadata": {},
   "source": [
    "# Capstone Project - Amsterdam Pizzeria"
   ]
  },
  {
   "cell_type": "markdown",
   "metadata": {},
   "source": [
    "### Introduction\n",
    "Imagine that you want to open a new pizzeria in Amsterdam. The big question is: What is a good location?\n",
    "This notebook is trying to answer this question by examining the amount of pizzerias and population per neighborhood.\n",
    "\n",
    "### Data\n",
    "Three different data sources will be used in this project:\n",
    "- The geodata about the neighborhoods is retrieved from https://data.overheid.nl/dataset/mea3qdtnvln9ca. This data is a so called shapefile. To read and modify this data, the geopandas package is used.\n",
    "- The population data about the neighborhoods is retrieved from https://data.amsterdam.nl/datasets/DMknRs8hEH-CtA/bevolking-wijken/. The most recent file is used, 2020.\n",
    "- The amount of pizzerias in Amsterdam is retrieved by using the Foursquari API. Please note that only the venues with category Pizzeria are retrieved by setting this condition in the query"
   ]
  }
 ],
 "metadata": {
  "kernelspec": {
   "display_name": "Python 3",
   "language": "python",
   "name": "python3"
  },
  "language_info": {
   "codemirror_mode": {
    "name": "ipython",
    "version": 3
   },
   "file_extension": ".py",
   "mimetype": "text/x-python",
   "name": "python",
   "nbconvert_exporter": "python",
   "pygments_lexer": "ipython3",
   "version": "3.8.5"
  }
 },
 "nbformat": 4,
 "nbformat_minor": 4
}
